{
 "cells": [
  {
   "cell_type": "code",
   "execution_count": 1,
   "id": "5d092967-e602-432f-af31-dc8c8ec84e3c",
   "metadata": {},
   "outputs": [
    {
     "ename": "SyntaxError",
     "evalue": "expected ':' (4290232848.py, line 16)",
     "output_type": "error",
     "traceback": [
      "  \u001b[36mCell\u001b[39m\u001b[36m \u001b[39m\u001b[32mIn[1]\u001b[39m\u001b[32m, line 16\u001b[39m\n\u001b[31m    \u001b[39m\u001b[31mfor ruta in ruta\u001b[39m\n                    ^\n\u001b[31mSyntaxError\u001b[39m\u001b[31m:\u001b[39m expected ':'\n"
     ]
    },
    {
     "name": "stdout",
     "output_type": "stream",
     "text": [
      "Error al cargar los datos: Execution failed on sql 'SELECT * FROM FPA_FOD_20170508': no such table: FPA_FOD_20170508\n"
     ]
    }
   ],
   "source": [
    "import polars as pl\n",
    "import numpy as np\n",
    "import matplotlib.pyplot as plt\n",
    "import seaborn as sns\n",
    "import pandas as pd\n",
    "import sqlite3\n",
    "import os\n",
    "\n",
    "color1 = '66CCFF'\n",
    "ruta = os.listdir('.')\n",
    "extensiones = ('csv', 'xls', 'xlsx') \n",
    "\n",
    "def opciones():\n",
    "    print('Bienvenido a analizer scrip')\n",
    "    try:\n",
    "        for ruta in ruta\n",
    "        if archivo.endswith(extensiones):\n",
    "                print('Estos documentos puedo leer ', archivo)\n",
    "    except Exception as e:\n",
    "        print(\"Error:\", e)\n",
    "        \n",
    "def load_data():\n",
    "    try: \n",
    "        conexion = sqlite3.connect(\"datos_cvs/FPA_FOD_20170508.sqlite\")\n",
    "        # df = pl.read_csv(\"datos_cvs/FPA_FOD_20170508.sqlite\")\n",
    "        tablas = pd.read_sql_query(\"SELECT name FROM sqlite_master WHERE type='table';\", conexion)\n",
    "\n",
    "        print(\"Datos cargados exitosamente!\")\n",
    "        print(f\"Tablas disponibles: {tablas['name'].tolist()}\")\n",
    "        pregunta = input(\"Quieieres que cargue toda la tabla? (s/n): \")\n",
    "        if pregunta.lower() == 's':\n",
    "            df = pd.read_sql_query(\"SELECT * FROM FPA_FOD_20170508\", conexion)\n",
    "            print(tablas)\n",
    "            return df\n",
    "        else:\n",
    "            print(\"No se cargó ninguna tabla.\")\n",
    "            return None\n",
    "\n",
    "\n",
    "    \n",
    "    \n",
    "\n",
    "    except Exception as e:\n",
    "        print(f\"Error al cargar los datos: {e}\")\n",
    "        return None\n",
    "\n",
    "\n",
    "# def visualize_data(df):\n",
    "#     if df is None:\n",
    "#         return\n",
    "    \n",
    "    \n",
    "    #\n",
    "    \n",
    "    \n",
    "    # 2. Boxplot de temperaturas por país\n",
    "\n",
    "   \n",
    "    \n",
    "\n",
    "\n",
    "\n",
    "    \n",
    "\n",
    "def init():\n",
    "    #load_data()\n",
    "    opciones()\n",
    "    # visualize_data(df)\n",
    "\n",
    "if __name__ == \"__main__\":\n",
    "    init()"
   ]
  },
  {
   "cell_type": "code",
   "execution_count": null,
   "id": "0c87fd2d-5d12-4ac0-ac38-6a85a7fffa54",
   "metadata": {},
   "outputs": [],
   "source": []
  }
 ],
 "metadata": {
  "kernelspec": {
   "display_name": "Python 3 (ipykernel)",
   "language": "python",
   "name": "python3"
  },
  "language_info": {
   "codemirror_mode": {
    "name": "ipython",
    "version": 3
   },
   "file_extension": ".py",
   "mimetype": "text/x-python",
   "name": "python",
   "nbconvert_exporter": "python",
   "pygments_lexer": "ipython3",
   "version": "3.11.2"
  }
 },
 "nbformat": 4,
 "nbformat_minor": 5
}
