{
 "cells": [
  {
   "cell_type": "code",
   "execution_count": null,
   "id": "5d092967-e602-432f-af31-dc8c8ec84e3c",
   "metadata": {},
   "outputs": [
    {
     "name": "stdout",
     "output_type": "stream",
     "text": [
      "Datos cargados exitosamente!\n",
      "Tablas disponibles: ['spatial_ref_sys', 'spatialite_history', 'sqlite_sequence', 'geometry_columns', 'spatial_ref_sys_aux', 'views_geometry_columns', 'virts_geometry_columns', 'geometry_columns_statistics', 'views_geometry_columns_statistics', 'virts_geometry_columns_statistics', 'geometry_columns_field_infos', 'views_geometry_columns_field_infos', 'virts_geometry_columns_field_infos', 'geometry_columns_time', 'geometry_columns_auth', 'views_geometry_columns_auth', 'virts_geometry_columns_auth', 'sql_statements_log', 'SpatialIndex', 'ElementaryGeometries', 'KNN', 'Fires', 'idx_Fires_Shape', 'idx_Fires_Shape_node', 'idx_Fires_Shape_rowid', 'idx_Fires_Shape_parent', 'NWCG_UnitIDActive_20170109']\n"
     ]
    },
    {
     "name": "stdout",
     "output_type": "stream",
     "text": [
      "Error al cargar los datos: Execution failed on sql 'SELECT * FROM FPA_FOD_20170508': no such table: FPA_FOD_20170508\n"
     ]
    }
   ],
   "source": [
    "import polars as pl\n",
    "import numpy as np\n",
    "import matplotlib.pyplot as plt\n",
    "import seaborn as sns\n",
    "import pandas as pd\n",
    "import sqlite3\n",
    "\n",
    "def load_data():\n",
    "    try: \n",
    "        conexion = sqlite3.connect(\"datos_cvs/FPA_FOD_20170508.sqlite\")\n",
    "        # df = pl.read_csv(\"datos_cvs/FPA_FOD_20170508.sqlite\")\n",
    "        tablas = pd.read_sql_query(\"SELECT name FROM sqlite_master WHERE type='table';\", conexion)\n",
    "\n",
    "        print(\"Datos cargados exitosamente!\")\n",
    "        print(f\"Tablas disponibles: {tablas['name'].tolist()}\")\n",
    "        pregunta = input(\"Quieieres que cargue toda la tabla? (s/n): \")\n",
    "        if pregunta.lower() == 's':\n",
    "            df = pd.read_sql_query(\"SELECT * FROM FPA_FOD_20170508\", conexion)\n",
    "            print(tablas)\n",
    "            return df\n",
    "        else:\n",
    "            print(\"No se cargó ninguna tabla.\")\n",
    "            return None\n",
    "\n",
    "\n",
    "    \n",
    "    \n",
    "\n",
    "    except Exception as e:\n",
    "        print(f\"Error al cargar los datos: {e}\")\n",
    "        return None\n",
    "\n",
    "\n",
    "# def visualize_data(df):\n",
    "#     if df is None:\n",
    "#         return\n",
    "    \n",
    "    \n",
    "    #\n",
    "    \n",
    "    \n",
    "    # 2. Boxplot de temperaturas por país\n",
    "\n",
    "   \n",
    "    \n",
    "\n",
    "\n",
    "\n",
    "    \n",
    "\n",
    "def init():\n",
    "    load_data()\n",
    "    # visualize_data(df)\n",
    "\n",
    "if __name__ == \"__main__\":\n",
    "    init()"
   ]
  },
  {
   "cell_type": "code",
   "execution_count": null,
   "id": "0c87fd2d-5d12-4ac0-ac38-6a85a7fffa54",
   "metadata": {},
   "outputs": [],
   "source": []
  }
 ],
 "metadata": {
  "kernelspec": {
   "display_name": "Python 3 (ipykernel)",
   "language": "python",
   "name": "python3"
  },
  "language_info": {
   "codemirror_mode": {
    "name": "ipython",
    "version": 3
   },
   "file_extension": ".py",
   "mimetype": "text/x-python",
   "name": "python",
   "nbconvert_exporter": "python",
   "pygments_lexer": "ipython3",
   "version": "3.11.2"
  }
 },
 "nbformat": 4,
 "nbformat_minor": 5
}
